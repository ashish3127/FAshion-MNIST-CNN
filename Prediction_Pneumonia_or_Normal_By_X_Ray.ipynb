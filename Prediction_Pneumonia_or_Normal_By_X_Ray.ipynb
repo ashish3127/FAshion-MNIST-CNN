{
  "nbformat": 4,
  "nbformat_minor": 0,
  "metadata": {
    "colab": {
      "name": "Prediction_Pneumonia_or_Normal By X-Ray.ipynb",
      "provenance": [],
      "mount_file_id": "1VvXvf9BYT-JomV2I4yJaI1DXc7ztWUpZ",
      "authorship_tag": "ABX9TyOnwk/YEFj73Mtyqfmk+omW",
      "include_colab_link": true
    },
    "kernelspec": {
      "name": "python3",
      "display_name": "Python 3"
    },
    "accelerator": "GPU"
  },
  "cells": [
    {
      "cell_type": "markdown",
      "metadata": {
        "id": "view-in-github",
        "colab_type": "text"
      },
      "source": [
        "<a href=\"https://colab.research.google.com/github/ashish3127/FAshion-MNIST-CNN/blob/main/Prediction_Pneumonia_or_Normal_By_X_Ray.ipynb\" target=\"_parent\"><img src=\"https://colab.research.google.com/assets/colab-badge.svg\" alt=\"Open In Colab\"/></a>"
      ]
    },
    {
      "cell_type": "code",
      "metadata": {
        "id": "dahWOB17jkQZ"
      },
      "source": [
        "# import Libraries\r\n",
        "\r\n",
        "from keras.layers import Input, Lambda, Dense, Flatten\r\n",
        "from keras.models import Model\r\n",
        "from keras.applications.vgg16 import VGG16\r\n",
        "from keras.applications.vgg16 import preprocess_input\r\n",
        "from keras.preprocessing import image\r\n",
        "from keras.preprocessing.image import ImageDataGenerator\r\n",
        "from keras.models import Sequential\r\n",
        "import numpy as np\r\n",
        "from glob import glob\r\n",
        "import matplotlib.pyplot as plt"
      ],
      "execution_count": 1,
      "outputs": []
    },
    {
      "cell_type": "code",
      "metadata": {
        "id": "VFH2bGy7lMYA"
      },
      "source": [
        "# resize all the image to this\r\n",
        "IMAGE_SIZE = [64, 64]\r\n",
        "\r\n",
        "train_path = \"/content/drive/MyDrive/X rays/train\"\r\n",
        "valid_path = \"/content/drive/MyDrive/X rays/test\""
      ],
      "execution_count": 2,
      "outputs": []
    },
    {
      "cell_type": "code",
      "metadata": {
        "id": "meytk4_Gmyj_",
        "colab": {
          "base_uri": "https://localhost:8080/"
        },
        "outputId": "94947ea5-54a8-4b01-c3f4-d81c208aa146"
      },
      "source": [
        "# import the Vgg 16 Library as shown below and add preprocessing layers to the front of VGG\r\n",
        "# Here we will be using imagenet weight\r\n",
        "import keras\r\n",
        "import tensorflow as tf\r\n",
        "vgg = vgg=tf.keras.applications.VGG16(\r\n",
        "    include_top=False,\r\n",
        "    weights=\"imagenet\",\r\n",
        "    input_tensor=None,\r\n",
        "    input_shape= IMAGE_SIZE + [3],\r\n",
        "    pooling=None,\r\n",
        "    classes=1000,\r\n",
        "    classifier_activation=\"softmax\",\r\n",
        ")"
      ],
      "execution_count": 3,
      "outputs": [
        {
          "output_type": "stream",
          "text": [
            "Downloading data from https://storage.googleapis.com/tensorflow/keras-applications/vgg16/vgg16_weights_tf_dim_ordering_tf_kernels_notop.h5\n",
            "58892288/58889256 [==============================] - 1s 0us/step\n"
          ],
          "name": "stdout"
        }
      ]
    },
    {
      "cell_type": "code",
      "metadata": {
        "id": "XxpdCwBMnnJ3"
      },
      "source": [
        "# don't train Existing weights\r\n",
        "for layer in vgg.layers:\r\n",
        "  layer.trainable = False"
      ],
      "execution_count": 4,
      "outputs": []
    },
    {
      "cell_type": "code",
      "metadata": {
        "id": "R67CeB-3oBGB"
      },
      "source": [
        "# useful for getting number of output  classes\r\n",
        "folders = glob(\"/content/drive/MyDrive/X rays/train\")"
      ],
      "execution_count": 5,
      "outputs": []
    },
    {
      "cell_type": "code",
      "metadata": {
        "id": "OPb0luFjoS0B"
      },
      "source": [
        "\r\n",
        "# our layers -you can add more if you want\r\n",
        "\r\n",
        "x= Flatten()(vgg.output)"
      ],
      "execution_count": 6,
      "outputs": []
    },
    {
      "cell_type": "code",
      "metadata": {
        "id": "FkaOebbHo_wA"
      },
      "source": [
        "prediction = Dense(len(folders), activation ='softmax')(x)"
      ],
      "execution_count": 7,
      "outputs": []
    },
    {
      "cell_type": "code",
      "metadata": {
        "id": "eDk3vO0apNdK"
      },
      "source": [
        "#create a model object\r\n",
        "model = Model(inputs=vgg.input, outputs = prediction)"
      ],
      "execution_count": 8,
      "outputs": []
    },
    {
      "cell_type": "code",
      "metadata": {
        "colab": {
          "base_uri": "https://localhost:8080/"
        },
        "id": "ioGaV3u8peFF",
        "outputId": "1497e3d5-9bae-4242-a808-5d99defe6338"
      },
      "source": [
        "# view the structure of the model\r\n",
        "model.summary()"
      ],
      "execution_count": 9,
      "outputs": [
        {
          "output_type": "stream",
          "text": [
            "Model: \"model\"\n",
            "_________________________________________________________________\n",
            "Layer (type)                 Output Shape              Param #   \n",
            "=================================================================\n",
            "input_1 (InputLayer)         [(None, 64, 64, 3)]       0         \n",
            "_________________________________________________________________\n",
            "block1_conv1 (Conv2D)        (None, 64, 64, 64)        1792      \n",
            "_________________________________________________________________\n",
            "block1_conv2 (Conv2D)        (None, 64, 64, 64)        36928     \n",
            "_________________________________________________________________\n",
            "block1_pool (MaxPooling2D)   (None, 32, 32, 64)        0         \n",
            "_________________________________________________________________\n",
            "block2_conv1 (Conv2D)        (None, 32, 32, 128)       73856     \n",
            "_________________________________________________________________\n",
            "block2_conv2 (Conv2D)        (None, 32, 32, 128)       147584    \n",
            "_________________________________________________________________\n",
            "block2_pool (MaxPooling2D)   (None, 16, 16, 128)       0         \n",
            "_________________________________________________________________\n",
            "block3_conv1 (Conv2D)        (None, 16, 16, 256)       295168    \n",
            "_________________________________________________________________\n",
            "block3_conv2 (Conv2D)        (None, 16, 16, 256)       590080    \n",
            "_________________________________________________________________\n",
            "block3_conv3 (Conv2D)        (None, 16, 16, 256)       590080    \n",
            "_________________________________________________________________\n",
            "block3_pool (MaxPooling2D)   (None, 8, 8, 256)         0         \n",
            "_________________________________________________________________\n",
            "block4_conv1 (Conv2D)        (None, 8, 8, 512)         1180160   \n",
            "_________________________________________________________________\n",
            "block4_conv2 (Conv2D)        (None, 8, 8, 512)         2359808   \n",
            "_________________________________________________________________\n",
            "block4_conv3 (Conv2D)        (None, 8, 8, 512)         2359808   \n",
            "_________________________________________________________________\n",
            "block4_pool (MaxPooling2D)   (None, 4, 4, 512)         0         \n",
            "_________________________________________________________________\n",
            "block5_conv1 (Conv2D)        (None, 4, 4, 512)         2359808   \n",
            "_________________________________________________________________\n",
            "block5_conv2 (Conv2D)        (None, 4, 4, 512)         2359808   \n",
            "_________________________________________________________________\n",
            "block5_conv3 (Conv2D)        (None, 4, 4, 512)         2359808   \n",
            "_________________________________________________________________\n",
            "block5_pool (MaxPooling2D)   (None, 2, 2, 512)         0         \n",
            "_________________________________________________________________\n",
            "flatten (Flatten)            (None, 2048)              0         \n",
            "_________________________________________________________________\n",
            "dense (Dense)                (None, 1)                 2049      \n",
            "=================================================================\n",
            "Total params: 14,716,737\n",
            "Trainable params: 2,049\n",
            "Non-trainable params: 14,714,688\n",
            "_________________________________________________________________\n"
          ],
          "name": "stdout"
        }
      ]
    },
    {
      "cell_type": "code",
      "metadata": {
        "id": "84izmgtGpqmj"
      },
      "source": [
        "# tell the model what cost and optimzation method to use\r\n",
        "model.compile(\r\n",
        "    loss='categorical_crossentropy',\r\n",
        "    optimizer='adam',\r\n",
        "    metrics=['accuracy']\r\n",
        ")"
      ],
      "execution_count": 10,
      "outputs": []
    },
    {
      "cell_type": "code",
      "metadata": {
        "id": "Tm03ObT-qNYO"
      },
      "source": [
        "# use the Image Data Generator to import the Image from the dataset\r\n",
        "from keras.preprocessing.image import ImageDataGenerator\r\n",
        "\r\n",
        "train_datagen = ImageDataGenerator(rescale =1./255,\r\n",
        "                                   shear_range = 0.2,\r\n",
        "                                   zoom_range =0.2,\r\n",
        "                                   horizontal_flip = True)"
      ],
      "execution_count": 11,
      "outputs": []
    },
    {
      "cell_type": "code",
      "metadata": {
        "id": "AcOWDwLeqso7"
      },
      "source": [
        "test_datagen = ImageDataGenerator(rescale =1./255)"
      ],
      "execution_count": 12,
      "outputs": []
    },
    {
      "cell_type": "code",
      "metadata": {
        "colab": {
          "base_uri": "https://localhost:8080/"
        },
        "id": "eDbQC4wyq0Hb",
        "outputId": "54dce444-dc6a-4947-a815-c5d40d51cd59"
      },
      "source": [
        "# Make sure you previde the same target size as intialied for the image size\r\n",
        "training_set = train_datagen.flow_from_directory(train_path, \r\n",
        "                                                 target_size=(64, 64), \r\n",
        "                                                 class_mode='binary')"
      ],
      "execution_count": 13,
      "outputs": [
        {
          "output_type": "stream",
          "text": [
            "Found 5253 images belonging to 2 classes.\n"
          ],
          "name": "stdout"
        }
      ]
    },
    {
      "cell_type": "code",
      "metadata": {
        "id": "8oKUV_1-rUJc",
        "colab": {
          "base_uri": "https://localhost:8080/"
        },
        "outputId": "9ecf1e5a-fb7a-4ce5-8ad8-5b6226de6c40"
      },
      "source": [
        "test_set = test_datagen.flow_from_directory(valid_path,\r\n",
        "                                            target_size =(64,64),\r\n",
        "                                            batch_size =32,\r\n",
        "                                            class_mode ='binary')"
      ],
      "execution_count": 14,
      "outputs": [
        {
          "output_type": "stream",
          "text": [
            "Found 624 images belonging to 2 classes.\n"
          ],
          "name": "stdout"
        }
      ]
    },
    {
      "cell_type": "code",
      "metadata": {
        "id": "c-4LixDjwv73"
      },
      "source": [
        "def plotImages(image_arr):\r\n",
        "  fig, axes=plt.subplots(1, 5, figsize=(64, 64))\r\n",
        "  axes =axes.flatten()\r\n",
        "  for img, ax in zip(image_arr, axes):\r\n",
        "    ax.imshow(img)\r\n",
        "  plt.tight_layout()\r\n",
        "  plt.show  "
      ],
      "execution_count": 15,
      "outputs": []
    },
    {
      "cell_type": "code",
      "metadata": {
        "colab": {
          "base_uri": "https://localhost:8080/",
          "height": 143
        },
        "id": "kGpxBMqew1Gg",
        "outputId": "a69e1132-6a32-4279-a827-f0ad6204cbcc"
      },
      "source": [
        "image = [training_set[0][0][0] for i in range(5)]\r\n",
        "plotImages(image)"
      ],
      "execution_count": 16,
      "outputs": [
        {
          "output_type": "display_data",
          "data": {
            "image/png": "[encoded data removed]",
            "text/plain": [
              "<Figure size 4608x4608 with 5 Axes>"
            ]
          },
          "metadata": {
            "tags": [],
            "needs_background": "light"
          }
        }
      ]
    },
    {
      "cell_type": "markdown",
      "metadata": {
        "id": "7xtuZFXRvAIF"
      },
      "source": [
        "# Fit the model\r\n",
        "# run the cell it will tak same to excute"
      ]
    },
    {
      "cell_type": "code",
      "metadata": {
        "id": "HCxzhipPvr78"
      },
      "source": [
        "from keras.callbacks import ModelCheckpoint\r\n",
        "model_path = \"/content/drive/MyDrive/X rays/X_ray_pnemonia_detection.h5\"\r\n",
        "checkpoint=ModelCheckpoint(model_path, monitor='val_accuracy', verbose=1, save_best_only=True, mode='max')\r\n",
        "callbacks_list = [checkpoint]"
      ],
      "execution_count": 17,
      "outputs": []
    },
    {
      "cell_type": "code",
      "metadata": {
        "colab": {
          "base_uri": "https://localhost:8080/"
        },
        "id": "gmxF51pHZ3EQ",
        "outputId": "6c2143a0-83b4-4449-d2c6-f97d8682b984"
      },
      "source": [
        "history = model.fit(training_set,\r\n",
        "                    epochs=5,\r\n",
        "                    verbose=1,\r\n",
        "                    validation_data= test_set,\r\n",
        "                    callbacks= callbacks_list)"
      ],
      "execution_count": 18,
      "outputs": [
        {
          "output_type": "stream",
          "text": [
            "Epoch 1/5\n",
            "165/165 [==============================] - 4225s 26s/step - loss: 0.0000e+00 - accuracy: 0.7547 - val_loss: 0.0000e+00 - val_accuracy: 0.6250\n",
            "\n",
            "Epoch 00001: val_accuracy improved from -inf to 0.62500, saving model to /content/drive/MyDrive/X rays/X_ray_pnemonia_detection.h5\n",
            "Epoch 2/5\n",
            "165/165 [==============================] - 76s 460ms/step - loss: 0.0000e+00 - accuracy: 0.7384 - val_loss: 0.0000e+00 - val_accuracy: 0.6250\n",
            "\n",
            "Epoch 00002: val_accuracy did not improve from 0.62500\n",
            "Epoch 3/5\n",
            "165/165 [==============================] - 75s 453ms/step - loss: 0.0000e+00 - accuracy: 0.7500 - val_loss: 0.0000e+00 - val_accuracy: 0.6250\n",
            "\n",
            "Epoch 00003: val_accuracy did not improve from 0.62500\n",
            "Epoch 4/5\n",
            "165/165 [==============================] - 75s 452ms/step - loss: 0.0000e+00 - accuracy: 0.7390 - val_loss: 0.0000e+00 - val_accuracy: 0.6250\n",
            "\n",
            "Epoch 00004: val_accuracy did not improve from 0.62500\n",
            "Epoch 5/5\n",
            "165/165 [==============================] - 74s 447ms/step - loss: 0.0000e+00 - accuracy: 0.7379 - val_loss: 0.0000e+00 - val_accuracy: 0.6250\n",
            "\n",
            "Epoch 00005: val_accuracy did not improve from 0.62500\n"
          ],
          "name": "stdout"
        }
      ]
    },
    {
      "cell_type": "markdown",
      "metadata": {
        "id": "aAjoia7am0js"
      },
      "source": [
        "# test the model"
      ]
    },
    {
      "cell_type": "code",
      "metadata": {
        "id": "Eg9iz6a2udFI"
      },
      "source": [
        "# import libraries\r\n",
        "import numpy as np\r\n",
        "import keras\r\n",
        "from keras.preprocessing.image import ImageDataGenerator"
      ],
      "execution_count": 23,
      "outputs": []
    },
    {
      "cell_type": "code",
      "metadata": {
        "id": "P1ztm_y_JP_d"
      },
      "source": [
        "#import model\r\n",
        "model_path1 ='/content/drive/MyDrive/X rays/X_ray_pnemonia_detection.h5'\r\n",
        "model1 = keras.models.load_model(model_path1) "
      ],
      "execution_count": 25,
      "outputs": []
    },
    {
      "cell_type": "code",
      "metadata": {
        "id": "qthlxURjnetv"
      },
      "source": [
        "h1='/content/drive/MyDrive/X rays/test/PNEUMONIA/person100_bacteria_477.jpeg'\r\n",
        "h2='/content/drive/MyDrive/X rays/test/PNEUMONIA/person100_bacteria_480.jpeg'\r\n",
        "h3='/content/drive/MyDrive/X rays/test/PNEUMONIA/person103_bacteria_490.jpeg'\r\n",
        "h4='/content/drive/MyDrive/X rays/test/PNEUMONIA/person104_bacteria_491.jpeg'\r\n",
        "b1='/content/drive/MyDrive/X rays/test/NORMAL/IM-0006-0001.jpeg'\r\n",
        "b2='/content/drive/MyDrive/X rays/test/NORMAL/IM-0022-0001.jpeg'\r\n",
        "b3='/content/drive/MyDrive/X rays/test/NORMAL/IM-0005-0001.jpeg'"
      ],
      "execution_count": 26,
      "outputs": []
    },
    {
      "cell_type": "code",
      "metadata": {
        "colab": {
          "base_uri": "https://localhost:8080/"
        },
        "id": "xk2wr9sqpca6",
        "outputId": "30537bd1-f0be-4627-c203-907158daaff5"
      },
      "source": [
        "training_set.class_indices"
      ],
      "execution_count": 27,
      "outputs": [
        {
          "output_type": "execute_result",
          "data": {
            "text/plain": [
              "{'NORMAL': 0, 'PNEUMONIA': 1}"
            ]
          },
          "metadata": {
            "tags": []
          },
          "execution_count": 27
        }
      ]
    },
    {
      "cell_type": "code",
      "metadata": {
        "id": "QcUt4lq5oC-O"
      },
      "source": [
        "from keras.preprocessing import image\r\n",
        "def pre_pneumonia_or_normal(model1, pneumonia_or_normal):\r\n",
        "  test_image = image.load_img(pneumonia_or_normal, target_size=(64,64))\r\n",
        "  test_image = image.img_to_array(test_image)/255\r\n",
        "  test_image = np.expand_dims(test_image, axis=0)\r\n",
        "\r\n",
        "  result = model1.predict(test_image).round(3)\r\n",
        "\r\n",
        "  pred = np.argmax(result)\r\n",
        "  print(result, \"--->>>\", pred)\r\n",
        "\r\n",
        "  if pred == 0:\r\n",
        "    print(\"predict >> Normal\")\r\n",
        "  else:\r\n",
        "    print(\"predict >> Human\")  "
      ],
      "execution_count": 28,
      "outputs": []
    },
    {
      "cell_type": "code",
      "metadata": {
        "colab": {
          "base_uri": "https://localhost:8080/"
        },
        "id": "2bx0k70vqAmo",
        "outputId": "8fd14cf1-7e45-4044-d7ad-67a8d9bf5e71"
      },
      "source": [
        "for pneumonia_or_normal in [h1,h2,h3,h4,b1,b2,b3]:\r\n",
        "  pre_pneumonia_or_normal(model1, pneumonia_or_normal)"
      ],
      "execution_count": 30,
      "outputs": [
        {
          "output_type": "stream",
          "text": [
            "[[1.]] --->>> 0\n",
            "predict >> Normal\n",
            "[[1.]] --->>> 0\n",
            "predict >> Normal\n",
            "[[1.]] --->>> 0\n",
            "predict >> Normal\n",
            "[[1.]] --->>> 0\n",
            "predict >> Normal\n",
            "[[1.]] --->>> 0\n",
            "predict >> Normal\n",
            "[[1.]] --->>> 0\n",
            "predict >> Normal\n",
            "[[1.]] --->>> 0\n",
            "predict >> Normal\n"
          ],
          "name": "stdout"
        }
      ]
    },
    {
      "cell_type": "code",
      "metadata": {
        "id": "yUyqQgXZqYK9"
      },
      "source": [
        ""
      ],
      "execution_count": null,
      "outputs": []
    }
  ]
}